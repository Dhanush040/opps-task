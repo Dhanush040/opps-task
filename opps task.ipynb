{
  "metadata": {
    "kernelspec": {
      "name": "python",
      "display_name": "Python (Pyodide)",
      "language": "python"
    },
    "language_info": {
      "codemirror_mode": {
        "name": "python",
        "version": 3
      },
      "file_extension": ".py",
      "mimetype": "text/x-python",
      "name": "python",
      "nbconvert_exporter": "python",
      "pygments_lexer": "ipython3",
      "version": "3.8"
    }
  },
  "nbformat_minor": 4,
  "nbformat": 4,
  "cells": [
    {
      "cell_type": "code",
      "source": "#1\nclass Vehicle:\n    def __init__(self, name_of_vehicle, max_speed, average_of_vehicle):\n        self.name_of_vehicle = name_of_vehicle\n        self.max_speed = max_speed\n        self.average_of_vehicle = average_of_vehicle\n\n# Example usage\nvehicle1 = Vehicle(\"Generic Vehicle\", 120, 15)\nprint(vehicle1.name_of_vehicle, vehicle1.max_speed, vehicle1.average_of_vehicle)\n",
      "metadata": {
        "trusted": true
      },
      "outputs": [
        {
          "name": "stdout",
          "text": "Generic Vehicle 120 15\n",
          "output_type": "stream"
        }
      ],
      "execution_count": 1
    },
    {
      "cell_type": "code",
      "source": "#2 \nclass Car(Vehicle):\n    def seating_capacity(self, capacity):\n        return f\"The {self.name_of_vehicle} has a seating capacity of {capacity}.\"\n\n# Example usage\ncar1 = Car(\"Toyota Camry\", 180, 12)\nprint(car1.seating_capacity(5))\n",
      "metadata": {
        "trusted": true
      },
      "outputs": [
        {
          "name": "stdout",
          "text": "The Toyota Camry has a seating capacity of 5.\n",
          "output_type": "stream"
        }
      ],
      "execution_count": 2
    },
    {
      "cell_type": "code",
      "source": "#3\nclass Engine:\n    def __init__(self, engine_type):\n        self.engine_type = engine_type\n\n    def start_engine(self):\n        return \"Engine started\"\n\nclass Wheels:\n    def __init__(self, wheel_count):\n        self.wheel_count = wheel_count\n\n    def roll(self):\n        return \"Wheels are rolling\"\n\nclass Car(Vehicle, Engine, Wheels):\n    def __init__(self, name_of_vehicle, max_speed, average_of_vehicle, engine_type, wheel_count):\n        Vehicle.__init__(self, name_of_vehicle, max_speed, average_of_vehicle)\n        Engine.__init__(self, engine_type)\n        Wheels.__init__(self, wheel_count)\n\n# Example usage\ncar2 = Car(\"Honda Civic\", 200, 14, \"V6\", 4)\nprint(car2.start_engine(), car2.roll())\n",
      "metadata": {
        "trusted": true
      },
      "outputs": [
        {
          "name": "stdout",
          "text": "Engine started Wheels are rolling\n",
          "output_type": "stream"
        }
      ],
      "execution_count": 3
    },
    {
      "cell_type": "code",
      "source": "#4 \nclass Engine:\n    def __init__(self, engine_type):\n        self.engine_type = engine_type\n\n    def start_engine(self):\n        return \"Engine started\"\n\nclass Wheels:\n    def __init__(self, wheel_count):\n        self.wheel_count = wheel_count\n\n    def roll(self):\n        return \"Wheels are rolling\"\n\nclass Car(Vehicle, Engine, Wheels):\n    def __init__(self, name_of_vehicle, max_speed, average_of_vehicle, engine_type, wheel_count):\n        Vehicle.__init__(self, name_of_vehicle, max_speed, average_of_vehicle)\n        Engine.__init__(self, engine_type)\n        Wheels.__init__(self, wheel_count)\n\n# Example usage\ncar2 = Car(\"Honda Civic\", 200, 14, \"V6\", 4)\nprint(car2.start_engine(), car2.roll())\n",
      "metadata": {
        "trusted": true
      },
      "outputs": [
        {
          "name": "stdout",
          "text": "Engine started Wheels are rolling\n",
          "output_type": "stream"
        }
      ],
      "execution_count": 4
    },
    {
      "cell_type": "code",
      "source": "",
      "metadata": {
        "trusted": true
      },
      "outputs": [],
      "execution_count": null
    }
  ]
}